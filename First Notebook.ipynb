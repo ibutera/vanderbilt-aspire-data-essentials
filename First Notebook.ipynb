{
 "cells": [
  {
   "cell_type": "code",
   "execution_count": null,
   "metadata": {},
   "outputs": [],
   "source": [
    "import pandas as pd"
   ]
  },
  {
   "cell_type": "code",
   "execution_count": null,
   "metadata": {},
   "outputs": [],
   "source": [
    "hospice_df=pd.read_csv('data/Hospice_General_Information.csv')"
   ]
  },
  {
   "cell_type": "code",
   "execution_count": null,
   "metadata": {},
   "outputs": [],
   "source": [
    "hospice_df = hospice_df.loc[hospice_df.State=='TN']\n",
    "hospice_df.head(2)"
   ]
  },
  {
   "cell_type": "code",
   "execution_count": null,
   "metadata": {
    "scrolled": false
   },
   "outputs": [],
   "source": [
    "# Facility Name,Address Line 1,Address Line 2,City,State,Zip Code,County Name,PhoneNumber,CMS \n",
    "hospice_df.columns = ['ccn','facility','address','address2', 'city','state','zip',\n",
    "                      'county','phone','region','owner_type','cert_date']\n",
    "hospice_df.head(2)"
   ]
  },
  {
   "cell_type": "code",
   "execution_count": null,
   "metadata": {
    "scrolled": true
   },
   "outputs": [],
   "source": [
    "hospice_df.drop(columns = ['ccn','address2','zip','phone',],inplace = True)\n",
    "hospice_df.head(2)"
   ]
  },
  {
   "cell_type": "code",
   "execution_count": null,
   "metadata": {},
   "outputs": [],
   "source": [
    "hospice_df.head()"
   ]
  },
  {
   "cell_type": "code",
   "execution_count": null,
   "metadata": {},
   "outputs": [],
   "source": [
    "print('top:',hospice_df.head())\n",
    "print('-------------------------------------------------------------------------')\n",
    "print('bottom:', hospice_df.tail())"
   ]
  },
  {
   "cell_type": "code",
   "execution_count": null,
   "metadata": {},
   "outputs": [],
   "source": [
    "#print the dimensions of the data\n",
    "hospice_df.shape"
   ]
  },
  {
   "cell_type": "code",
   "execution_count": null,
   "metadata": {},
   "outputs": [],
   "source": [
    "cancer_df = pd.read_csv('data/cancer_deaths.csv',skiprows = 4, nrows = 97)\n",
    "cancer_df.head()"
   ]
  },
  {
   "cell_type": "code",
   "execution_count": null,
   "metadata": {},
   "outputs": [],
   "source": [
    "#print the dimensions of the data\n",
    "cancer_df.shape"
   ]
  },
  {
   "cell_type": "code",
   "execution_count": null,
   "metadata": {},
   "outputs": [],
   "source": [
    "# County, FIPS, Met Healthy People Objective of 161.4?,\"Age-Adjusted Death Rate - deaths per 100,000\",\n",
    "# Lower 95% Confidence Interval,Upper 95% Confidence Interval,Average Annual Count,Recent Trend,Recent 5-Year Trend in Death Rates,Lower 95% Confidence Interval,Upper 95% Confidence Interval\n",
    "cancer_df.columns = ['county','fips','healthy','deathrate', 'death_lowci','death_upci','annualcount',\n",
    "                      'trend','death5y','death5y_lowci','death5y_upci']\n",
    "cancer_df.head(2)"
   ]
  },
  {
   "cell_type": "code",
   "execution_count": null,
   "metadata": {},
   "outputs": [],
   "source": [
    "print('top:',cancer_df.head())\n",
    "print('-------------------------------------------------------------------------')\n",
    "print('bottom:', cancer_df.tail())"
   ]
  },
  {
   "cell_type": "code",
   "execution_count": null,
   "metadata": {},
   "outputs": [],
   "source": [
    "#print the dimensions of the data\n",
    "cancer_df.shape"
   ]
  },
  {
   "cell_type": "code",
   "execution_count": null,
   "metadata": {},
   "outputs": [],
   "source": [
    "pop_df=pd.read_csv('data/PEP_2017_PEPAGESEX.csv',skiprows=1)"
   ]
  },
  {
   "cell_type": "code",
   "execution_count": null,
   "metadata": {},
   "outputs": [],
   "source": [
    "pop_df.head(2)"
   ]
  },
  {
   "cell_type": "code",
   "execution_count": null,
   "metadata": {},
   "outputs": [],
   "source": [
    "pop_df.shape"
   ]
  },
  {
   "cell_type": "code",
   "execution_count": null,
   "metadata": {},
   "outputs": [],
   "source": [
    "# drop columns with April data\n",
    "april_data = [col for col in pop_df.columns if col.startswith('April')] \n",
    "cleanpop_df = pop_df.drop(april_data, axis = 1)\n",
    "cleanpop_df.head(2)"
   ]
  },
  {
   "cell_type": "code",
   "execution_count": null,
   "metadata": {},
   "outputs": [],
   "source": [
    "cleanpop_df.shape"
   ]
  },
  {
   "cell_type": "code",
   "execution_count": null,
   "metadata": {},
   "outputs": [],
   "source": [
    "#list(cleanpop_df.columns)"
   ]
  },
  {
   "cell_type": "code",
   "execution_count": null,
   "metadata": {},
   "outputs": [],
   "source": [
    "data2011 = [col for col in cleanpop_df.columns if col.startswith('Population Estimate (as of July 1) - 2011')] \n",
    "cleanpop_df = cleanpop_df.drop(data2011, axis = 1)\n",
    "data2012 = [col for col in cleanpop_df.columns if col.startswith('Population Estimate (as of July 1) - 2012')] \n",
    "cleanpop_df = cleanpop_df.drop(data2012, axis = 1)\n",
    "data2013 = [col for col in cleanpop_df.columns if col.startswith('Population Estimate (as of July 1) - 2013')] \n",
    "cleanpop_df = cleanpop_df.drop(data2013, axis = 1)\n",
    "data2015 = [col for col in cleanpop_df.columns if col.startswith('Population Estimate (as of July 1) - 2015')] \n",
    "cleanpop_df = cleanpop_df.drop(data2015, axis = 1)\n",
    "data2016 = [col for col in cleanpop_df.columns if col.startswith('Population Estimate (as of July 1) - 2016')] \n",
    "cleanpop_df = cleanpop_df.drop(data2016, axis = 1)\n",
    "cleanpop_df.head(2)"
   ]
  },
  {
   "cell_type": "code",
   "execution_count": null,
   "metadata": {},
   "outputs": [],
   "source": [
    "cleanpop_df.shape"
   ]
  },
  {
   "cell_type": "code",
   "execution_count": null,
   "metadata": {},
   "outputs": [],
   "source": [
    "#list(cleanpop_df.columns)"
   ]
  },
  {
   "cell_type": "code",
   "execution_count": null,
   "metadata": {},
   "outputs": [],
   "source": [
    "data_male = [col for col in cleanpop_df.columns if 'Male'in col] \n",
    "cleanpop_df = cleanpop_df.drop(data_male, axis = 1)\n",
    "\n",
    "data_female = [col for col in cleanpop_df.columns if 'Female' in col] \n",
    "cleanpop_df = cleanpop_df.drop(data_female, axis = 1)\n",
    "\n",
    "cleanpop_df.head(2)"
   ]
  },
  {
   "cell_type": "code",
   "execution_count": null,
   "metadata": {},
   "outputs": [],
   "source": [
    "cleanpop_df.shape"
   ]
  },
  {
   "cell_type": "code",
   "execution_count": null,
   "metadata": {},
   "outputs": [],
   "source": [
    "data_under = [col for col in cleanpop_df.columns if 'Under'in col] \n",
    "cleanpop_df = cleanpop_df.drop(data_under, axis = 1)\n",
    "#list(cleanpop_df.columns)"
   ]
  },
  {
   "cell_type": "code",
   "execution_count": null,
   "metadata": {},
   "outputs": [],
   "source": [
    "# cleanup - drop columns for under 50\n",
    "cleanpop_df = cleanpop_df.drop(['Id', 'Id2',\n",
    " 'Population Estimate (as of July 1) - 2010 - Both Sexes; Total - 5 to 9 years',\n",
    " 'Population Estimate (as of July 1) - 2014 - Both Sexes; Total - 5 to 9 years',\n",
    " 'Population Estimate (as of July 1) - 2017 - Both Sexes; Total - 5 to 9 years',\n",
    " 'Population Estimate (as of July 1) - 2010 - Both Sexes; Total - 10 to 14 years',\n",
    " 'Population Estimate (as of July 1) - 2014 - Both Sexes; Total - 10 to 14 years',\n",
    " 'Population Estimate (as of July 1) - 2017 - Both Sexes; Total - 10 to 14 years',\n",
    " 'Population Estimate (as of July 1) - 2010 - Both Sexes; Total - 15 to 19 years',\n",
    " 'Population Estimate (as of July 1) - 2014 - Both Sexes; Total - 15 to 19 years',\n",
    " 'Population Estimate (as of July 1) - 2017 - Both Sexes; Total - 15 to 19 years',\n",
    " 'Population Estimate (as of July 1) - 2010 - Both Sexes; Total - 20 to 24 years',\n",
    " 'Population Estimate (as of July 1) - 2014 - Both Sexes; Total - 20 to 24 years',\n",
    " 'Population Estimate (as of July 1) - 2017 - Both Sexes; Total - 20 to 24 years',\n",
    " 'Population Estimate (as of July 1) - 2010 - Both Sexes; Total - 25 to 29 years',\n",
    " 'Population Estimate (as of July 1) - 2014 - Both Sexes; Total - 25 to 29 years',\n",
    " 'Population Estimate (as of July 1) - 2017 - Both Sexes; Total - 25 to 29 years',\n",
    " 'Population Estimate (as of July 1) - 2010 - Both Sexes; Total - 30 to 34 years',\n",
    " 'Population Estimate (as of July 1) - 2014 - Both Sexes; Total - 30 to 34 years',\n",
    " 'Population Estimate (as of July 1) - 2017 - Both Sexes; Total - 30 to 34 years',\n",
    " 'Population Estimate (as of July 1) - 2010 - Both Sexes; Total - 35 to 39 years',\n",
    " 'Population Estimate (as of July 1) - 2014 - Both Sexes; Total - 35 to 39 years',\n",
    " 'Population Estimate (as of July 1) - 2017 - Both Sexes; Total - 35 to 39 years',\n",
    " 'Population Estimate (as of July 1) - 2010 - Both Sexes; Total - 40 to 44 years',\n",
    " 'Population Estimate (as of July 1) - 2014 - Both Sexes; Total - 40 to 44 years',\n",
    " 'Population Estimate (as of July 1) - 2017 - Both Sexes; Total - 40 to 44 years',\n",
    " 'Population Estimate (as of July 1) - 2010 - Both Sexes; Total - 45 to 49 years',\n",
    " 'Population Estimate (as of July 1) - 2014 - Both Sexes; Total - 45 to 49 years',\n",
    " 'Population Estimate (as of July 1) - 2017 - Both Sexes; Total - 45 to 49 years',\n",
    " 'Population Estimate (as of July 1) - 2010 - Both Sexes; 18 to 64 years',\n",
    " 'Population Estimate (as of July 1) - 2014 - Both Sexes; 18 to 64 years',\n",
    " 'Population Estimate (as of July 1) - 2017 - Both Sexes; 18 to 64 years',\n",
    " 'Population Estimate (as of July 1) - 2010 - Both Sexes; 18 to 64 years - 18 to 24 years',\n",
    " 'Population Estimate (as of July 1) - 2014 - Both Sexes; 18 to 64 years - 18 to 24 years',\n",
    " 'Population Estimate (as of July 1) - 2017 - Both Sexes; 18 to 64 years - 18 to 24 years',\n",
    " 'Population Estimate (as of July 1) - 2010 - Both Sexes; 18 to 64 years - 25 to 44 years',\n",
    " 'Population Estimate (as of July 1) - 2014 - Both Sexes; 18 to 64 years - 25 to 44 years',\n",
    " 'Population Estimate (as of July 1) - 2017 - Both Sexes; 18 to 64 years - 25 to 44 years',\n",
    " 'Population Estimate (as of July 1) - 2010 - Both Sexes; 18 to 64 years - 45 to 64 years',\n",
    " 'Population Estimate (as of July 1) - 2014 - Both Sexes; 18 to 64 years - 45 to 64 years',\n",
    " 'Population Estimate (as of July 1) - 2017 - Both Sexes; 18 to 64 years - 45 to 64 years',\n",
    " 'Population Estimate (as of July 1) - 2010 - Both Sexes; 16 years and over',\n",
    " 'Population Estimate (as of July 1) - 2014 - Both Sexes; 16 years and over',\n",
    " 'Population Estimate (as of July 1) - 2017 - Both Sexes; 16 years and over',\n",
    " 'Population Estimate (as of July 1) - 2010 - Both Sexes; 18 years and over',\n",
    " 'Population Estimate (as of July 1) - 2014 - Both Sexes; 18 years and over',\n",
    " 'Population Estimate (as of July 1) - 2017 - Both Sexes; 18 years and over',\n",
    " 'Population Estimate (as of July 1) - 2010 - Both Sexes; 65 years and over',\n",
    " 'Population Estimate (as of July 1) - 2014 - Both Sexes; 65 years and over',\n",
    " 'Population Estimate (as of July 1) - 2017 - Both Sexes; 65 years and over',\n",
    " 'Population Estimate (as of July 1) - 2010 - Both Sexes; 85 years and over',\n",
    " 'Population Estimate (as of July 1) - 2014 - Both Sexes; 85 years and over',\n",
    " 'Population Estimate (as of July 1) - 2017 - Both Sexes; 85 years and over',\n",
    " 'Population Estimate (as of July 1) - 2010 - Both Sexes; 15 to 44 years',\n",
    " 'Population Estimate (as of July 1) - 2014 - Both Sexes; 15 to 44 years',\n",
    " 'Population Estimate (as of July 1) - 2017 - Both Sexes; 15 to 44 years'], axis = 1)\n",
    "      \n",
    "list(cleanpop_df.columns)\n"
   ]
  },
  {
   "cell_type": "code",
   "execution_count": null,
   "metadata": {},
   "outputs": [],
   "source": [
    "cleanpop_df.shape"
   ]
  },
  {
   "cell_type": "code",
   "execution_count": null,
   "metadata": {},
   "outputs": [],
   "source": [
    "#rename columns\n",
    "cleanpop_df.columns = ['county', 'pop2010all', 'pop2014all', 'pop2017all','pop2010_50to54','pop2014_50to54', \n",
    "                       'pop2017_50to54', 'pop2010_55to59', 'pop2014_55to59', 'pop2017_55to59', 'pop2010_60to64', \n",
    "                       'pop2014_60to64', 'pop2017_60to64', 'pop2010_65to69', 'pop2014_65to69', 'pop2017_65to69', \n",
    "                       'pop2010_70to74', 'pop2014_70to74', 'pop2017_70to74', 'pop2010_75to79', 'pop2014_75to79', \n",
    "                       'pop2017_75to79', 'pop2010_80to84', 'pop2014_80to84', 'pop2017_80to84', 'pop2010_85over', \n",
    "                       'pop2014_85over', 'pop2017_85over','median_age_2010', 'median_age_2014', 'median_age_2017']"
   ]
  },
  {
   "cell_type": "code",
   "execution_count": null,
   "metadata": {},
   "outputs": [],
   "source": [
    "cleanpop_df.head(2)"
   ]
  },
  {
   "cell_type": "code",
   "execution_count": null,
   "metadata": {},
   "outputs": [],
   "source": [
    "# remove state from pop_df.county\n",
    "cleanpop_df.county = cleanpop_df.county.str.replace(', Tennessee', '')\n",
    "cleanpop_df.head(2)"
   ]
  },
  {
   "cell_type": "code",
   "execution_count": null,
   "metadata": {},
   "outputs": [],
   "source": [
    "cancer_df.head(5)"
   ]
  },
  {
   "cell_type": "code",
   "execution_count": null,
   "metadata": {},
   "outputs": [],
   "source": [
    "#Use an outer join to merge pop_df and cancer data to a DataFrame called pop_and_cancer\n",
    "#pd.merge(<df1>, <df2>, on = <col or list of cols to join on>, how = <join_type>)\n",
    "\n",
    "pop_and_cancer = pd.merge(cancer_df, cleanpop_df, on = 'county', how = 'outer')\n",
    "pop_and_cancer.county = pop_and_cancer.county.str.replace(' County', '')\n",
    "pop_and_cancer.head(5)"
   ]
  },
  {
   "cell_type": "code",
   "execution_count": null,
   "metadata": {},
   "outputs": [],
   "source": [
    "#count how many hospice facilities are in each county using value_counts()\n",
    "#mydictionary = df.column.value_counts().to_dict()\n",
    "\n",
    "hospice_per_county = hospice_df.county.value_counts().to_dict()\n",
    "hospice_per_county"
   ]
  },
  {
   "cell_type": "code",
   "execution_count": null,
   "metadata": {},
   "outputs": [],
   "source": [
    "#add a zero if there are no facilities... \n",
    "for county in pop_and_cancer.county: \n",
    "    if county in hospice_per_county:\n",
    "        continue\n",
    "    else: \n",
    "        hospice_per_county[county] = 0\n",
    "    \n",
    "#check for Anderson in the dictionary      \n",
    "hospice_per_county['Anderson']"
   ]
  },
  {
   "cell_type": "code",
   "execution_count": null,
   "metadata": {},
   "outputs": [],
   "source": [
    "#populate a new column with hospice counts \n",
    "pop_and_cancer['hospice_counts'] = [hospice_per_county[county] for county in pop_and_cancer.county]\n",
    "pop_and_cancer.head(10)"
   ]
  },
  {
   "cell_type": "code",
   "execution_count": null,
   "metadata": {},
   "outputs": [],
   "source": [
    "#sum the number of rows with missing data\n",
    "pop_and_cancer.isnull().sum()"
   ]
  },
  {
   "cell_type": "code",
   "execution_count": null,
   "metadata": {},
   "outputs": [],
   "source": [
    "# find which rows have these null values using iloc\n",
    "pop_and_cancer.loc[pop_and_cancer.median_age_2017.isnull()]"
   ]
  },
  {
   "cell_type": "code",
   "execution_count": null,
   "metadata": {},
   "outputs": [],
   "source": [
    "#drop rows 1 and 2 with missing data\n",
    "pop_and_cancer = pop_and_cancer.drop(pop_and_cancer.index[0:2])\n",
    "pop_and_cancer.head(3)"
   ]
  },
  {
   "cell_type": "code",
   "execution_count": null,
   "metadata": {},
   "outputs": [],
   "source": [
    "pop_and_cancer.shape"
   ]
  },
  {
   "cell_type": "code",
   "execution_count": null,
   "metadata": {},
   "outputs": [],
   "source": [
    "#Find which columns have missing values? How many? \n",
    "pop_and_cancer.isnull().sum()"
   ]
  },
  {
   "cell_type": "code",
   "execution_count": null,
   "metadata": {},
   "outputs": [],
   "source": [
    "#Find the average death rate from cancer for counties in TN\n",
    "pop_and_cancer[\"deathrate\"].mean()"
   ]
  },
  {
   "cell_type": "code",
   "execution_count": null,
   "metadata": {},
   "outputs": [],
   "source": [
    "cancer_df"
   ]
  },
  {
   "cell_type": "code",
   "execution_count": null,
   "metadata": {},
   "outputs": [],
   "source": [
    "import matplotlib.pyplot as plt"
   ]
  },
  {
   "cell_type": "code",
   "execution_count": null,
   "metadata": {},
   "outputs": [],
   "source": [
    "import seaborn as sns"
   ]
  },
  {
   "cell_type": "code",
   "execution_count": null,
   "metadata": {},
   "outputs": [],
   "source": [
    "#What does the distribution of the `recent_5year_trend` of deaths from cancer look like for TN counties?\n",
    "#Create a histogram of pop_and_cancer[\"death5y\"]\n",
    "plt.hist(pop_and_cancer[\"death5y\"])\n"
   ]
  },
  {
   "cell_type": "code",
   "execution_count": null,
   "metadata": {},
   "outputs": [],
   "source": [
    "pop_and_cancer"
   ]
  },
  {
   "cell_type": "code",
   "execution_count": 370,
   "metadata": {},
   "outputs": [
    {
     "data": {
      "image/png": "[encoded data removed]",
      "text/plain": [
       "<Figure size 432x288 with 1 Axes>"
      ]
     },
     "metadata": {},
     "output_type": "display_data"
    }
   ],
   "source": [
    "#find counties **meeting** the 2020 Healthy People Objective target of 161.4 cancer deaths per 100,000 people\n",
    "# plot a histogram of deathrate for all the \"No\" responses in column \"healthy\"\n",
    "health_yes = pop_and_cancer.loc[pop_and_cancer.healthy =='Yes']\n",
    "health_yes\n",
    "plt.hist(health_yes[\"deathrate\"]);"
   ]
  },
  {
   "cell_type": "code",
   "execution_count": 371,
   "metadata": {},
   "outputs": [
    {
     "data": {
      "image/png": "[encoded data removed]",
      "text/plain": [
       "<Figure size 432x288 with 1 Axes>"
      ]
     },
     "metadata": {},
     "output_type": "display_data"
    }
   ],
   "source": [
    "#find counties **not meeting** the 2020 Healthy People Objective target of 161.4 cancer deaths per 100,000 people\n",
    "# plot a histogram of deathrate for all the \"No\" responses in column \"healthy\"\n",
    "health_no = pop_and_cancer.loc[pop_and_cancer.healthy =='No']\n",
    "plt.hist(health_no[\"deathrate\"]);"
   ]
  },
  {
   "cell_type": "code",
   "execution_count": 372,
   "metadata": {},
   "outputs": [
    {
     "data": {
      "text/html": [
       "<div>\n",
       "<style scoped>\n",
       "    .dataframe tbody tr th:only-of-type {\n",
       "        vertical-align: middle;\n",
       "    }\n",
       "\n",
       "    .dataframe tbody tr th {\n",
       "        vertical-align: top;\n",
       "    }\n",
       "\n",
       "    .dataframe thead th {\n",
       "        text-align: right;\n",
       "    }\n",
       "</style>\n",
       "<table border=\"1\" class=\"dataframe\">\n",
       "  <thead>\n",
       "    <tr style=\"text-align: right;\">\n",
       "      <th></th>\n",
       "      <th>county</th>\n",
       "      <th>fips</th>\n",
       "      <th>healthy</th>\n",
       "      <th>deathrate</th>\n",
       "      <th>death_lowci</th>\n",
       "      <th>death_upci</th>\n",
       "      <th>annualcount</th>\n",
       "      <th>trend</th>\n",
       "      <th>death5y</th>\n",
       "      <th>death5y_lowci</th>\n",
       "      <th>...</th>\n",
       "      <th>pop2010_80to84</th>\n",
       "      <th>pop2014_80to84</th>\n",
       "      <th>pop2017_80to84</th>\n",
       "      <th>pop2010_85over</th>\n",
       "      <th>pop2014_85over</th>\n",
       "      <th>pop2017_85over</th>\n",
       "      <th>median_age_2010</th>\n",
       "      <th>median_age_2014</th>\n",
       "      <th>median_age_2017</th>\n",
       "      <th>hospice_counts</th>\n",
       "    </tr>\n",
       "  </thead>\n",
       "  <tbody>\n",
       "    <tr>\n",
       "      <th>48</th>\n",
       "      <td>Shelby</td>\n",
       "      <td>47157</td>\n",
       "      <td>No</td>\n",
       "      <td>195.0</td>\n",
       "      <td>190.8</td>\n",
       "      <td>199.2</td>\n",
       "      <td>1767</td>\n",
       "      <td>falling</td>\n",
       "      <td>-1.1</td>\n",
       "      <td>-1.2</td>\n",
       "      <td>...</td>\n",
       "      <td>13270.0</td>\n",
       "      <td>12986.0</td>\n",
       "      <td>13297.0</td>\n",
       "      <td>12481.0</td>\n",
       "      <td>13579.0</td>\n",
       "      <td>14257.0</td>\n",
       "      <td>34.6</td>\n",
       "      <td>35.1</td>\n",
       "      <td>35.6</td>\n",
       "      <td>5</td>\n",
       "    </tr>\n",
       "    <tr>\n",
       "      <th>66</th>\n",
       "      <td>Davidson</td>\n",
       "      <td>47037</td>\n",
       "      <td>No</td>\n",
       "      <td>184.7</td>\n",
       "      <td>179.8</td>\n",
       "      <td>189.7</td>\n",
       "      <td>1137</td>\n",
       "      <td>falling</td>\n",
       "      <td>-1.5</td>\n",
       "      <td>-1.7</td>\n",
       "      <td>...</td>\n",
       "      <td>9534.0</td>\n",
       "      <td>9056.0</td>\n",
       "      <td>9228.0</td>\n",
       "      <td>8999.0</td>\n",
       "      <td>9754.0</td>\n",
       "      <td>10028.0</td>\n",
       "      <td>34.0</td>\n",
       "      <td>34.4</td>\n",
       "      <td>34.4</td>\n",
       "      <td>8</td>\n",
       "    </tr>\n",
       "    <tr>\n",
       "      <th>79</th>\n",
       "      <td>Knox</td>\n",
       "      <td>47093</td>\n",
       "      <td>No</td>\n",
       "      <td>177.4</td>\n",
       "      <td>172.1</td>\n",
       "      <td>182.8</td>\n",
       "      <td>890</td>\n",
       "      <td>falling</td>\n",
       "      <td>-1.0</td>\n",
       "      <td>-1.2</td>\n",
       "      <td>...</td>\n",
       "      <td>8135.0</td>\n",
       "      <td>7914.0</td>\n",
       "      <td>8187.0</td>\n",
       "      <td>7416.0</td>\n",
       "      <td>8089.0</td>\n",
       "      <td>8440.0</td>\n",
       "      <td>37.2</td>\n",
       "      <td>37.3</td>\n",
       "      <td>37.5</td>\n",
       "      <td>5</td>\n",
       "    </tr>\n",
       "    <tr>\n",
       "      <th>83</th>\n",
       "      <td>Hamilton</td>\n",
       "      <td>47065</td>\n",
       "      <td>No</td>\n",
       "      <td>172.6</td>\n",
       "      <td>167.0</td>\n",
       "      <td>178.3</td>\n",
       "      <td>743</td>\n",
       "      <td>stable</td>\n",
       "      <td>0.1</td>\n",
       "      <td>-1.5</td>\n",
       "      <td>...</td>\n",
       "      <td>7250.0</td>\n",
       "      <td>7308.0</td>\n",
       "      <td>7280.0</td>\n",
       "      <td>6752.0</td>\n",
       "      <td>7639.0</td>\n",
       "      <td>8226.0</td>\n",
       "      <td>39.3</td>\n",
       "      <td>39.7</td>\n",
       "      <td>39.6</td>\n",
       "      <td>5</td>\n",
       "    </tr>\n",
       "  </tbody>\n",
       "</table>\n",
       "<p>4 rows × 42 columns</p>\n",
       "</div>"
      ],
      "text/plain": [
       "      county   fips healthy  deathrate  death_lowci  death_upci  annualcount  \\\n",
       "48    Shelby  47157      No      195.0        190.8       199.2         1767   \n",
       "66  Davidson  47037      No      184.7        179.8       189.7         1137   \n",
       "79      Knox  47093      No      177.4        172.1       182.8          890   \n",
       "83  Hamilton  47065      No      172.6        167.0       178.3          743   \n",
       "\n",
       "      trend  death5y  death5y_lowci       ...        pop2010_80to84  \\\n",
       "48  falling     -1.1           -1.2       ...               13270.0   \n",
       "66  falling     -1.5           -1.7       ...                9534.0   \n",
       "79  falling     -1.0           -1.2       ...                8135.0   \n",
       "83   stable      0.1           -1.5       ...                7250.0   \n",
       "\n",
       "    pop2014_80to84  pop2017_80to84  pop2010_85over  pop2014_85over  \\\n",
       "48         12986.0         13297.0         12481.0         13579.0   \n",
       "66          9056.0          9228.0          8999.0          9754.0   \n",
       "79          7914.0          8187.0          7416.0          8089.0   \n",
       "83          7308.0          7280.0          6752.0          7639.0   \n",
       "\n",
       "    pop2017_85over  median_age_2010  median_age_2014  median_age_2017  \\\n",
       "48         14257.0             34.6             35.1             35.6   \n",
       "66         10028.0             34.0             34.4             34.4   \n",
       "79          8440.0             37.2             37.3             37.5   \n",
       "83          8226.0             39.3             39.7             39.6   \n",
       "\n",
       "    hospice_counts  \n",
       "48               5  \n",
       "66               8  \n",
       "79               5  \n",
       "83               5  \n",
       "\n",
       "[4 rows x 42 columns]"
      ]
     },
     "execution_count": 372,
     "metadata": {},
     "output_type": "execute_result"
    }
   ],
   "source": [
    "#Find the 4 counties that have more than 2 hospice facilities? Any surprises?\n",
    "pop_and_cancer.loc[pop_and_cancer.hospice_counts > 2]"
   ]
  },
  {
   "cell_type": "code",
   "execution_count": null,
   "metadata": {},
   "outputs": [],
   "source": [
    "#Find the 5 counties with the highest death rate per 100K people\n"
   ]
  },
  {
   "cell_type": "code",
   "execution_count": null,
   "metadata": {},
   "outputs": [],
   "source": [
    "#Create 3 new features in `pop_and_cancer`:  `percent_pop_over_50_2010`, `percent_pop_over_50_2014`, \n",
    "#`percent_pop_over_50_2017` by dividing each county's over 50 population for 2010, 2014, and 2017 by that year's \n",
    "#total population. "
   ]
  },
  {
   "cell_type": "code",
   "execution_count": null,
   "metadata": {},
   "outputs": [],
   "source": [
    "#After you've verified that these columns were created correctly, drop the 24 columns (8 for each \n",
    "#year) that you used to create the new buckets "
   ]
  },
  {
   "cell_type": "code",
   "execution_count": null,
   "metadata": {},
   "outputs": [],
   "source": [
    "# In 2017, for which two counties was the population over age 50 **greater than half** of the total population?"
   ]
  },
  {
   "cell_type": "code",
   "execution_count": null,
   "metadata": {},
   "outputs": [],
   "source": [
    "# In 2017, for which five counties was the population over age 50 **less than a third** of the total population?"
   ]
  },
  {
   "cell_type": "code",
   "execution_count": null,
   "metadata": {},
   "outputs": [],
   "source": [
    "#* create a scatterplot to show the relationship between cancer deaths and the percentage of population over age 50 in TN counties. Use the 2017 population data. Be sure to label axes and add a title.\n",
    "#  * create another new feature, `normalized_hospice_rate` in `pop_and_cancer`. Divide the count of hospices by the 2017 total population and multiply the result by 100,000.\n",
    "#  * create a scatterplot to examine the relationship between population over 50 and the normalized hospice rate in TN counties.\n",
    "#  * Use seaborn to create a boxplot normalized hospice rates, with nested grouping by the Healthy People cancer goal categories."
   ]
  }
 ],
 "metadata": {
  "kernelspec": {
   "display_name": "Python 3",
   "language": "python",
   "name": "python3"
  },
  "language_info": {
   "codemirror_mode": {
    "name": "ipython",
    "version": 3
   },
   "file_extension": ".py",
   "mimetype": "text/x-python",
   "name": "python",
   "nbconvert_exporter": "python",
   "pygments_lexer": "ipython3",
   "version": "3.6.5"
  }
 },
 "nbformat": 4,
 "nbformat_minor": 2
}
